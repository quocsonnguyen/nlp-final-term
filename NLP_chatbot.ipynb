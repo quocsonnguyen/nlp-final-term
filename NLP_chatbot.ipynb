{
 "cells": [
  {
   "cell_type": "code",
   "execution_count": 1,
   "metadata": {
    "id": "AGNozDPc-u71"
   },
   "outputs": [],
   "source": [
    "f = open('bạn bè.txt','r')\n",
    "sentences = f.readlines()"
   ]
  },
  {
   "cell_type": "code",
   "execution_count": 2,
   "metadata": {
    "colab": {
     "base_uri": "https://localhost:8080/"
    },
    "id": "lfVlRd57bl7Q",
    "outputId": "e65eadf5-9cc5-4eda-cbdd-9a8de9084b6d"
   },
   "outputs": [],
   "source": [
    "# !pip install vncorenlp"
   ]
  },
  {
   "cell_type": "code",
   "execution_count": 3,
   "metadata": {
    "id": "vItw-yhrbm6q"
   },
   "outputs": [],
   "source": [
    "!mkdir -p vncorenlp/models/wordsegmenter"
   ]
  },
  {
   "cell_type": "code",
   "execution_count": 4,
   "metadata": {
    "colab": {
     "base_uri": "https://localhost:8080/"
    },
    "id": "DyMkiw3UbpPe",
    "outputId": "7862b1d9-7f1d-4abc-ae78-0cd65a1d93a3"
   },
   "outputs": [],
   "source": [
    "# !wget https://raw.githubusercontent.com/vncorenlp/VnCoreNLP/master/VnCoreNLP-1.1.1.jar"
   ]
  },
  {
   "cell_type": "code",
   "execution_count": 5,
   "metadata": {
    "colab": {
     "base_uri": "https://localhost:8080/"
    },
    "id": "Wpz0YRBJbqap",
    "outputId": "67c366eb-7e95-472f-c5b1-8992bb8e1d00"
   },
   "outputs": [],
   "source": [
    "# !wget https://raw.githubusercontent.com/vncorenlp/VnCoreNLP/master/models/wordsegmenter/vi-vocab"
   ]
  },
  {
   "cell_type": "code",
   "execution_count": 6,
   "metadata": {
    "colab": {
     "base_uri": "https://localhost:8080/"
    },
    "id": "qsOIRShCbrny",
    "outputId": "36f0c01a-6fe9-4259-8eda-5a7fa2a62d11"
   },
   "outputs": [],
   "source": [
    "# !wget https://raw.githubusercontent.com/vncorenlp/VnCoreNLP/master/models/wordsegmenter/wordsegmenter.rdr"
   ]
  },
  {
   "cell_type": "code",
   "execution_count": 7,
   "metadata": {
    "id": "2AztBZambt4D"
   },
   "outputs": [
    {
     "name": "stdout",
     "output_type": "stream",
     "text": [
      "mv: cannot stat 'VnCoreNLP-1.1.1.jar': No such file or directory\r\n"
     ]
    }
   ],
   "source": [
    "!mv VnCoreNLP-1.1.1.jar vncorenlp/ "
   ]
  },
  {
   "cell_type": "code",
   "execution_count": 8,
   "metadata": {
    "id": "DEBfQvzYbuyt"
   },
   "outputs": [
    {
     "name": "stdout",
     "output_type": "stream",
     "text": [
      "mv: cannot stat 'vi-vocab': No such file or directory\r\n"
     ]
    }
   ],
   "source": [
    "!mv vi-vocab vncorenlp/models/wordsegmenter/"
   ]
  },
  {
   "cell_type": "code",
   "execution_count": 9,
   "metadata": {
    "id": "jGOc02sFbv31"
   },
   "outputs": [
    {
     "name": "stdout",
     "output_type": "stream",
     "text": [
      "mv: cannot stat 'wordsegmenter.rdr': No such file or directory\r\n"
     ]
    }
   ],
   "source": [
    "!mv wordsegmenter.rdr vncorenlp/models/wordsegmenter/"
   ]
  },
  {
   "cell_type": "code",
   "execution_count": 10,
   "metadata": {},
   "outputs": [
    {
     "name": "stdout",
     "output_type": "stream",
     "text": [
      "Requirement already satisfied: vncorenlp in /home/minhtuan/snap/jupyter/common/lib/python3.7/site-packages (1.0.3)\n",
      "Requirement already satisfied: requests in /home/minhtuan/snap/jupyter/common/lib/python3.7/site-packages (from vncorenlp) (2.25.1)\n",
      "Requirement already satisfied: certifi>=2017.4.17 in /snap/jupyter/6/lib/python3.7/site-packages (from requests->vncorenlp) (2019.3.9)\n",
      "Requirement already satisfied: urllib3<1.27,>=1.21.1 in /home/minhtuan/snap/jupyter/common/lib/python3.7/site-packages (from requests->vncorenlp) (1.26.4)\n",
      "Requirement already satisfied: idna<3,>=2.5 in /home/minhtuan/snap/jupyter/common/lib/python3.7/site-packages (from requests->vncorenlp) (2.10)\n",
      "Requirement already satisfied: chardet<5,>=3.0.2 in /home/minhtuan/snap/jupyter/common/lib/python3.7/site-packages (from requests->vncorenlp) (4.0.0)\n"
     ]
    }
   ],
   "source": [
    "!pip install vncorenlp"
   ]
  },
  {
   "cell_type": "code",
   "execution_count": 12,
   "metadata": {},
   "outputs": [
    {
     "data": {
      "text/plain": [
       "32512"
      ]
     },
     "execution_count": 12,
     "metadata": {},
     "output_type": "execute_result"
    }
   ],
   "source": [
    "import os\n",
    "os.system(\"java -version\")"
   ]
  },
  {
   "cell_type": "code",
   "execution_count": 11,
   "metadata": {
    "colab": {
     "base_uri": "https://localhost:8080/"
    },
    "id": "l4Y1yDJr_yXW",
    "outputId": "55d726c1-0207-4980-e2e6-858d1594396c"
   },
   "outputs": [
    {
     "ename": "FileNotFoundError",
     "evalue": "Java was not found, please install JRE or JDK >= 1.8 first.",
     "output_type": "error",
     "traceback": [
      "\u001b[0;31m---------------------------------------------------------------------------\u001b[0m",
      "\u001b[0;31mFileNotFoundError\u001b[0m                         Traceback (most recent call last)",
      "\u001b[0;32m/home/minhtuan/snap/jupyter/common/lib/python3.7/site-packages/vncorenlp/vncorenlp.py\u001b[0m in \u001b[0;36m__init__\u001b[0;34m(self, address, port, timeout, annotators, max_heap_size, quiet)\u001b[0m\n\u001b[1;32m     52\u001b[0m             \u001b[0;32mtry\u001b[0m\u001b[0;34m:\u001b[0m\u001b[0;34m\u001b[0m\u001b[0;34m\u001b[0m\u001b[0m\n\u001b[0;32m---> 53\u001b[0;31m                 \u001b[0msubprocess\u001b[0m\u001b[0;34m.\u001b[0m\u001b[0mcheck_call\u001b[0m\u001b[0;34m(\u001b[0m\u001b[0;34m[\u001b[0m\u001b[0;34m'java'\u001b[0m\u001b[0;34m,\u001b[0m \u001b[0;34m'-version'\u001b[0m\u001b[0;34m]\u001b[0m\u001b[0;34m,\u001b[0m \u001b[0mstdout\u001b[0m\u001b[0;34m=\u001b[0m\u001b[0msubprocess\u001b[0m\u001b[0;34m.\u001b[0m\u001b[0mDEVNULL\u001b[0m\u001b[0;34m,\u001b[0m \u001b[0mstderr\u001b[0m\u001b[0;34m=\u001b[0m\u001b[0msubprocess\u001b[0m\u001b[0;34m.\u001b[0m\u001b[0mDEVNULL\u001b[0m\u001b[0;34m)\u001b[0m\u001b[0;34m\u001b[0m\u001b[0;34m\u001b[0m\u001b[0m\n\u001b[0m\u001b[1;32m     54\u001b[0m             \u001b[0;32mexcept\u001b[0m \u001b[0mFileNotFoundError\u001b[0m\u001b[0;34m:\u001b[0m\u001b[0;34m\u001b[0m\u001b[0;34m\u001b[0m\u001b[0m\n",
      "\u001b[0;32m/snap/jupyter/6/lib/python3.7/subprocess.py\u001b[0m in \u001b[0;36mcheck_call\u001b[0;34m(*popenargs, **kwargs)\u001b[0m\n\u001b[1;32m    341\u001b[0m     \"\"\"\n\u001b[0;32m--> 342\u001b[0;31m     \u001b[0mretcode\u001b[0m \u001b[0;34m=\u001b[0m \u001b[0mcall\u001b[0m\u001b[0;34m(\u001b[0m\u001b[0;34m*\u001b[0m\u001b[0mpopenargs\u001b[0m\u001b[0;34m,\u001b[0m \u001b[0;34m**\u001b[0m\u001b[0mkwargs\u001b[0m\u001b[0;34m)\u001b[0m\u001b[0;34m\u001b[0m\u001b[0;34m\u001b[0m\u001b[0m\n\u001b[0m\u001b[1;32m    343\u001b[0m     \u001b[0;32mif\u001b[0m \u001b[0mretcode\u001b[0m\u001b[0;34m:\u001b[0m\u001b[0;34m\u001b[0m\u001b[0;34m\u001b[0m\u001b[0m\n",
      "\u001b[0;32m/snap/jupyter/6/lib/python3.7/subprocess.py\u001b[0m in \u001b[0;36mcall\u001b[0;34m(timeout, *popenargs, **kwargs)\u001b[0m\n\u001b[1;32m    322\u001b[0m     \"\"\"\n\u001b[0;32m--> 323\u001b[0;31m     \u001b[0;32mwith\u001b[0m \u001b[0mPopen\u001b[0m\u001b[0;34m(\u001b[0m\u001b[0;34m*\u001b[0m\u001b[0mpopenargs\u001b[0m\u001b[0;34m,\u001b[0m \u001b[0;34m**\u001b[0m\u001b[0mkwargs\u001b[0m\u001b[0;34m)\u001b[0m \u001b[0;32mas\u001b[0m \u001b[0mp\u001b[0m\u001b[0;34m:\u001b[0m\u001b[0;34m\u001b[0m\u001b[0;34m\u001b[0m\u001b[0m\n\u001b[0m\u001b[1;32m    324\u001b[0m         \u001b[0;32mtry\u001b[0m\u001b[0;34m:\u001b[0m\u001b[0;34m\u001b[0m\u001b[0;34m\u001b[0m\u001b[0m\n",
      "\u001b[0;32m/snap/jupyter/6/lib/python3.7/subprocess.py\u001b[0m in \u001b[0;36m__init__\u001b[0;34m(self, args, bufsize, executable, stdin, stdout, stderr, preexec_fn, close_fds, shell, cwd, env, universal_newlines, startupinfo, creationflags, restore_signals, start_new_session, pass_fds, encoding, errors, text)\u001b[0m\n\u001b[1;32m    774\u001b[0m                                 \u001b[0merrread\u001b[0m\u001b[0;34m,\u001b[0m \u001b[0merrwrite\u001b[0m\u001b[0;34m,\u001b[0m\u001b[0;34m\u001b[0m\u001b[0;34m\u001b[0m\u001b[0m\n\u001b[0;32m--> 775\u001b[0;31m                                 restore_signals, start_new_session)\n\u001b[0m\u001b[1;32m    776\u001b[0m         \u001b[0;32mexcept\u001b[0m\u001b[0;34m:\u001b[0m\u001b[0;34m\u001b[0m\u001b[0;34m\u001b[0m\u001b[0m\n",
      "\u001b[0;32m/snap/jupyter/6/lib/python3.7/subprocess.py\u001b[0m in \u001b[0;36m_execute_child\u001b[0;34m(self, args, executable, preexec_fn, close_fds, pass_fds, cwd, env, startupinfo, creationflags, shell, p2cread, p2cwrite, c2pread, c2pwrite, errread, errwrite, restore_signals, start_new_session)\u001b[0m\n\u001b[1;32m   1521\u001b[0m                             \u001b[0merr_msg\u001b[0m \u001b[0;34m+=\u001b[0m \u001b[0;34m': '\u001b[0m \u001b[0;34m+\u001b[0m \u001b[0mrepr\u001b[0m\u001b[0;34m(\u001b[0m\u001b[0merr_filename\u001b[0m\u001b[0;34m)\u001b[0m\u001b[0;34m\u001b[0m\u001b[0;34m\u001b[0m\u001b[0m\n\u001b[0;32m-> 1522\u001b[0;31m                     \u001b[0;32mraise\u001b[0m \u001b[0mchild_exception_type\u001b[0m\u001b[0;34m(\u001b[0m\u001b[0merrno_num\u001b[0m\u001b[0;34m,\u001b[0m \u001b[0merr_msg\u001b[0m\u001b[0;34m,\u001b[0m \u001b[0merr_filename\u001b[0m\u001b[0;34m)\u001b[0m\u001b[0;34m\u001b[0m\u001b[0;34m\u001b[0m\u001b[0m\n\u001b[0m\u001b[1;32m   1523\u001b[0m                 \u001b[0;32mraise\u001b[0m \u001b[0mchild_exception_type\u001b[0m\u001b[0;34m(\u001b[0m\u001b[0merr_msg\u001b[0m\u001b[0;34m)\u001b[0m\u001b[0;34m\u001b[0m\u001b[0;34m\u001b[0m\u001b[0m\n",
      "\u001b[0;31mFileNotFoundError\u001b[0m: [Errno 2] No such file or directory: 'java': 'java'",
      "\nDuring handling of the above exception, another exception occurred:\n",
      "\u001b[0;31mFileNotFoundError\u001b[0m                         Traceback (most recent call last)",
      "\u001b[0;32m<ipython-input-11-78355b33a891>\u001b[0m in \u001b[0;36m<module>\u001b[0;34m\u001b[0m\n\u001b[1;32m      3\u001b[0m \u001b[0;32mimport\u001b[0m \u001b[0mvncorenlp\u001b[0m\u001b[0;34m\u001b[0m\u001b[0;34m\u001b[0m\u001b[0m\n\u001b[1;32m      4\u001b[0m \u001b[0;34m\u001b[0m\u001b[0m\n\u001b[0;32m----> 5\u001b[0;31m \u001b[0mrdrsegmenter\u001b[0m \u001b[0;34m=\u001b[0m \u001b[0mvncorenlp\u001b[0m\u001b[0;34m.\u001b[0m\u001b[0mVnCoreNLP\u001b[0m\u001b[0;34m(\u001b[0m\u001b[0;34m\"vncorenlp/VnCoreNLP-1.1.1.jar\"\u001b[0m\u001b[0;34m,\u001b[0m \u001b[0mannotators\u001b[0m\u001b[0;34m=\u001b[0m\u001b[0;34m\"wseg\"\u001b[0m\u001b[0;34m,\u001b[0m \u001b[0mmax_heap_size\u001b[0m\u001b[0;34m=\u001b[0m\u001b[0;34m'-Xmx500m'\u001b[0m\u001b[0;34m)\u001b[0m\u001b[0;34m\u001b[0m\u001b[0;34m\u001b[0m\u001b[0m\n\u001b[0m\u001b[1;32m      6\u001b[0m \u001b[0;34m\u001b[0m\u001b[0m\n\u001b[1;32m      7\u001b[0m \u001b[0;34m\u001b[0m\u001b[0m\n",
      "\u001b[0;32m/home/minhtuan/snap/jupyter/common/lib/python3.7/site-packages/vncorenlp/vncorenlp.py\u001b[0m in \u001b[0;36m__init__\u001b[0;34m(self, address, port, timeout, annotators, max_heap_size, quiet)\u001b[0m\n\u001b[1;32m     53\u001b[0m                 \u001b[0msubprocess\u001b[0m\u001b[0;34m.\u001b[0m\u001b[0mcheck_call\u001b[0m\u001b[0;34m(\u001b[0m\u001b[0;34m[\u001b[0m\u001b[0;34m'java'\u001b[0m\u001b[0;34m,\u001b[0m \u001b[0;34m'-version'\u001b[0m\u001b[0;34m]\u001b[0m\u001b[0;34m,\u001b[0m \u001b[0mstdout\u001b[0m\u001b[0;34m=\u001b[0m\u001b[0msubprocess\u001b[0m\u001b[0;34m.\u001b[0m\u001b[0mDEVNULL\u001b[0m\u001b[0;34m,\u001b[0m \u001b[0mstderr\u001b[0m\u001b[0;34m=\u001b[0m\u001b[0msubprocess\u001b[0m\u001b[0;34m.\u001b[0m\u001b[0mDEVNULL\u001b[0m\u001b[0;34m)\u001b[0m\u001b[0;34m\u001b[0m\u001b[0;34m\u001b[0m\u001b[0m\n\u001b[1;32m     54\u001b[0m             \u001b[0;32mexcept\u001b[0m \u001b[0mFileNotFoundError\u001b[0m\u001b[0;34m:\u001b[0m\u001b[0;34m\u001b[0m\u001b[0;34m\u001b[0m\u001b[0m\n\u001b[0;32m---> 55\u001b[0;31m                 \u001b[0;32mraise\u001b[0m \u001b[0mFileNotFoundError\u001b[0m\u001b[0;34m(\u001b[0m\u001b[0;34m'Java was not found, please install JRE or JDK >= 1.8 first.'\u001b[0m\u001b[0;34m)\u001b[0m\u001b[0;34m\u001b[0m\u001b[0;34m\u001b[0m\u001b[0m\n\u001b[0m\u001b[1;32m     56\u001b[0m \u001b[0;34m\u001b[0m\u001b[0m\n\u001b[1;32m     57\u001b[0m             \u001b[0;31m# Start the server\u001b[0m\u001b[0;34m\u001b[0m\u001b[0;34m\u001b[0m\u001b[0;34m\u001b[0m\u001b[0m\n",
      "\u001b[0;31mFileNotFoundError\u001b[0m: Java was not found, please install JRE or JDK >= 1.8 first."
     ]
    }
   ],
   "source": [
    "import re\n",
    "# from vncorenlp import VnCoreNLP\n",
    "import vncorenlp\n",
    "\n",
    "rdrsegmenter = vncorenlp.VnCoreNLP(\"vncorenlp/VnCoreNLP-1.1.1.jar\", annotators=\"wseg\", max_heap_size='-Xmx500m') \n",
    "\n",
    "\n",
    "\n",
    "questions = []\n",
    "answers = []\n",
    "for sent in sentences:\n",
    "    q_a = sent.split('__eou__')\n",
    "    for i in range(len(q_a)):\n",
    "        q_a[i] = re.sub('^ | $','',q_a[i]) #bỏ 2 dấu cách đầu và cuối câu\n",
    "    try:\n",
    "        questions.append(q_a[0])\n",
    "        if q_a[1] == '':\n",
    "            answers.append('None')\n",
    "        else:\n",
    "            answers.append(q_a[1])\n",
    "    except Exception:\n",
    "        continue\n",
    "\n",
    "print(len(questions))\n",
    "print(len(answers))\n",
    "print(questions[0:5])\n",
    "print(answers[0:5])"
   ]
  },
  {
   "cell_type": "code",
   "execution_count": null,
   "metadata": {},
   "outputs": [],
   "source": [
    "from vncorenlp import VnCoreNLP"
   ]
  },
  {
   "cell_type": "markdown",
   "metadata": {
    "id": "bc1uTA6uDQCQ"
   },
   "source": [
    "#Word2Vec"
   ]
  },
  {
   "cell_type": "code",
   "execution_count": null,
   "metadata": {
    "colab": {
     "base_uri": "https://localhost:8080/"
    },
    "id": "tlhc0zYfC_uy",
    "outputId": "b5dbb029-ceb2-49f6-95e6-50e5a5f1baaf"
   },
   "outputs": [],
   "source": [
    "import nltk\n",
    "nltk.download('punkt')"
   ]
  },
  {
   "cell_type": "code",
   "execution_count": null,
   "metadata": {
    "id": "KBJ_pX9kDdKZ"
   },
   "outputs": [],
   "source": [
    "tokenizer = nltk.RegexpTokenizer(r\"\\w+\")\n",
    "\n",
    "questions_tokenize = [rdrsegmenter.tokenize(sent.lower())[-1] for sent in questions]\n",
    "answers_tokenize = [rdrsegmenter.tokenize(sent.lower())[-1] for sent in answers]"
   ]
  },
  {
   "cell_type": "code",
   "execution_count": null,
   "metadata": {
    "id": "v9B37b2Uf11Y"
   },
   "outputs": [],
   "source": [
    "# for sent in range(len(answers)):\n",
    "#   try:\n",
    "#     # print(rdrsegmenter.tokenize(sent.lower())[-1])\n",
    "#     rdrsegmenter.tokenize(answers[sent].lower())[-1]\n",
    "#     continue\n",
    "#   except:\n",
    "#     print(sent)"
   ]
  },
  {
   "cell_type": "code",
   "execution_count": null,
   "metadata": {
    "colab": {
     "base_uri": "https://localhost:8080/"
    },
    "id": "nYvJE19jepc5",
    "outputId": "e4ed7939-c659-4013-82e8-cdef1ed2fde6"
   },
   "outputs": [],
   "source": [
    "questions_tokenize[:5]"
   ]
  },
  {
   "cell_type": "code",
   "execution_count": null,
   "metadata": {
    "colab": {
     "base_uri": "https://localhost:8080/"
    },
    "id": "3JoaBmH0e5g2",
    "outputId": "8652d6f1-3b9e-46d8-b96a-223c9f9a531a"
   },
   "outputs": [],
   "source": [
    "answers_tokenize[:5]"
   ]
  },
  {
   "cell_type": "code",
   "execution_count": null,
   "metadata": {
    "colab": {
     "base_uri": "https://localhost:8080/"
    },
    "id": "-_-pHeJqPhPP",
    "outputId": "aaebfd63-9134-4e2e-b4fb-467caf0da118"
   },
   "outputs": [],
   "source": [
    "print(len(questions_tokenize))\n",
    "print(len(answers_tokenize))"
   ]
  },
  {
   "cell_type": "code",
   "execution_count": null,
   "metadata": {
    "id": "Cl1VF0GNFIqt"
   },
   "outputs": [],
   "source": [
    "# train_text_tokenized = [nltk.word_tokenize(sent) for sent in X_train+y_train]\n",
    "# test_text_tokenized = [nltk.word_tokenize(sent) for sent in X_test+y_test]"
   ]
  },
  {
   "cell_type": "code",
   "execution_count": null,
   "metadata": {
    "id": "Q_gCwzN1Dylj"
   },
   "outputs": [],
   "source": [
    "from gensim.models import Word2Vec\n",
    "modelw2v = Word2Vec(sentences=questions_tokenize+answers_tokenize, size=100, window=5, sg=1, min_count=1)"
   ]
  },
  {
   "cell_type": "code",
   "execution_count": null,
   "metadata": {
    "colab": {
     "base_uri": "https://localhost:8080/"
    },
    "id": "6QKdY1hqGJmt",
    "outputId": "0fca8281-2415-4f30-f6d7-8cb2e9c428ef"
   },
   "outputs": [],
   "source": [
    "print(\"Vocab size: \" + str(len(modelw2v.wv.vocab)))"
   ]
  },
  {
   "cell_type": "code",
   "execution_count": null,
   "metadata": {
    "colab": {
     "base_uri": "https://localhost:8080/"
    },
    "id": "U5xyXlwMGWmF",
    "outputId": "93181a8f-c60b-4276-a179-994e1b2b458b"
   },
   "outputs": [],
   "source": [
    "modelw2v.wv.most_similar('bạn')"
   ]
  },
  {
   "cell_type": "code",
   "execution_count": null,
   "metadata": {
    "id": "dcuzyGGTiPD2"
   },
   "outputs": [],
   "source": [
    "def w2v(array_tokenize):\n",
    "  temp = {}\n",
    "  for i,sent in enumerate(array_tokenize):\n",
    "    sent_tokenize = []\n",
    "    for word in sent:\n",
    "      try:\n",
    "        sent_tokenize.append(modelw2v.wv[word])\n",
    "      except Exception:\n",
    "        continue\n",
    "    try:\n",
    "      temp[i] = sum(sent_tokenize)/len(sent_tokenize)\n",
    "    except Exception:\n",
    "      error_idx.add(i)\n",
    "      continue\n",
    "  return temp"
   ]
  },
  {
   "cell_type": "code",
   "execution_count": null,
   "metadata": {
    "colab": {
     "base_uri": "https://localhost:8080/"
    },
    "id": "ilEMoLqmJoy_",
    "outputId": "8a1cb878-9048-434f-b5d6-47b71969a595"
   },
   "outputs": [],
   "source": [
    "import numpy as np\n",
    "\n",
    "error_idx = set()\n",
    "\n",
    "\n",
    "temp_X = w2v(questions_tokenize)\n",
    "\n",
    "temp_Y = w2v(answers_tokenize)\n",
    "\n",
    "\n",
    "\n",
    "X = []\n",
    "\n",
    "for e in temp_X:\n",
    "  if e in error_idx:\n",
    "    continue\n",
    "  X.append(temp_X[e])\n",
    "\n",
    "Y = []\n",
    "\n",
    "for e in temp_Y:\n",
    "  if e in error_idx:\n",
    "    continue\n",
    "  Y.append(temp_Y[e])\n",
    "\n",
    "\n",
    "print(np.array(X).shape)\n",
    "print(np.array(Y).shape)\n",
    "print(X[0:2])\n",
    "print(Y[0:2])"
   ]
  },
  {
   "cell_type": "code",
   "execution_count": null,
   "metadata": {
    "id": "KyEDbQwgjkvG"
   },
   "outputs": [],
   "source": [
    "string = 'Nhậu ko cu'"
   ]
  },
  {
   "cell_type": "code",
   "execution_count": null,
   "metadata": {
    "colab": {
     "base_uri": "https://localhost:8080/"
    },
    "id": "qYoEFV_hjqC6",
    "outputId": "45979eb6-7944-439b-ce32-77ee5a3ed101"
   },
   "outputs": [],
   "source": [
    "string = rdrsegmenter.tokenize(string.lower())[-1]\n",
    "print(string)"
   ]
  },
  {
   "cell_type": "code",
   "execution_count": null,
   "metadata": {
    "id": "wTIxxju4j2fP"
   },
   "outputs": [],
   "source": [
    "sent_tokenize = []\n",
    "for word in string:\n",
    "  try:\n",
    "    sent_tokenize.append(modelw2v.wv[word])\n",
    "  except Exception:\n",
    "    continue\n",
    "\n",
    "input = sum(sent_tokenize)/len(sent_tokenize)"
   ]
  },
  {
   "cell_type": "code",
   "execution_count": null,
   "metadata": {
    "id": "iHPNF_sYkH1A"
   },
   "outputs": [],
   "source": [
    "import math as m\n",
    "def euclid_distance(X, Y):\n",
    "  total = 0\n",
    "  for i in range(len(X)):\n",
    "    total += m.pow(X[i]-Y[i],2)\n",
    "  return m.sqrt(total)\n",
    "\n",
    "def get_best_index(input, X):\n",
    "  min = -(m.inf)\n",
    "  idx = 0\n",
    "  for i,q in enumerate(X):\n",
    "    if euclid_distance(input, q) < min:\n",
    "      min = euclid_distance(input, q)\n",
    "      idx = i\n",
    "  return i"
   ]
  },
  {
   "cell_type": "code",
   "execution_count": null,
   "metadata": {
    "colab": {
     "base_uri": "https://localhost:8080/"
    },
    "id": "TH9raVt9kzju",
    "outputId": "8318b0cc-4582-49f6-d2de-b4c33f252ee5"
   },
   "outputs": [],
   "source": [
    "print(answers[get_best_index(input, X)])"
   ]
  },
  {
   "cell_type": "code",
   "execution_count": null,
   "metadata": {
    "id": "KlC7GzpHSAYh"
   },
   "outputs": [],
   "source": [
    "# from sklearn.model_selection import train_test_split\n",
    "\n",
    "# X_train, X_test, y_train, y_test = train_test_split(X, Y, test_size=0.2, random_state=42)"
   ]
  },
  {
   "cell_type": "code",
   "execution_count": null,
   "metadata": {
    "id": "GnCRLkuDSi6s"
   },
   "outputs": [],
   "source": [
    "# from keras.utils import to_categorical\n",
    "\n",
    "# y_train = to_categorical(train_labels)\n",
    "# y_test = to_categorical(test_labels)"
   ]
  }
 ],
 "metadata": {
  "colab": {
   "collapsed_sections": [],
   "name": "NLP-chatbot",
   "provenance": [],
   "toc_visible": true
  },
  "kernelspec": {
   "display_name": "Python 3",
   "language": "python",
   "name": "python3"
  },
  "language_info": {
   "codemirror_mode": {
    "name": "ipython",
    "version": 3
   },
   "file_extension": ".py",
   "mimetype": "text/x-python",
   "name": "python",
   "nbconvert_exporter": "python",
   "pygments_lexer": "ipython3",
   "version": "3.7.3"
  }
 },
 "nbformat": 4,
 "nbformat_minor": 1
}
