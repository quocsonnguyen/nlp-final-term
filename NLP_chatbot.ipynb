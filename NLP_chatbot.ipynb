{
  "nbformat": 4,
  "nbformat_minor": 0,
  "metadata": {
    "colab": {
      "name": "NLP-chatbot",
      "provenance": [],
      "collapsed_sections": [],
      "toc_visible": true
    },
    "kernelspec": {
      "name": "python3",
      "display_name": "Python 3"
    },
    "language_info": {
      "name": "python"
    }
  },
  "cells": [
    {
      "cell_type": "code",
      "metadata": {
        "id": "AGNozDPc-u71"
      },
      "source": [
        "f = open('bạn bè.txt','r')\n",
        "sentences = f.readlines()"
      ],
      "execution_count": null,
      "outputs": []
    },
    {
      "cell_type": "code",
      "metadata": {
        "colab": {
          "base_uri": "https://localhost:8080/"
        },
        "id": "l4Y1yDJr_yXW",
        "outputId": "67e5a048-5462-4856-a600-38373b2cecda"
      },
      "source": [
        "import re\n",
        "\n",
        "questions = []\n",
        "answers = []\n",
        "for sent in sentences:\n",
        "  q_a = sent.split('__eou__')\n",
        "  for i in range(len(q_a)):\n",
        "    q_a[i] = re.sub('^ | $','',q_a[i])\n",
        "  try:\n",
        "    questions.append(q_a[0])\n",
        "    answers.append(q_a[1])\n",
        "  except Exception:\n",
        "    continue\n",
        "\n",
        "print(len(questions))\n",
        "print(len(answers))\n",
        "print(questions[0:5])\n",
        "print(answers[0:5])"
      ],
      "execution_count": null,
      "outputs": [
        {
          "output_type": "stream",
          "text": [
            "610\n",
            "610\n",
            "['Thích đánh lộn không?', 'Solo yasua không', 'Mai đi picnic không?', 'Mai học ca mấy vậy?', 'Còn tiền không?']\n",
            "['Ngon nhà vô', 'Chấp lun 2 mạng đầu', 'Mai bận học rồi', 'Mai học ca 3', 'Còn chết liền']\n"
          ],
          "name": "stdout"
        }
      ]
    },
    {
      "cell_type": "markdown",
      "metadata": {
        "id": "bc1uTA6uDQCQ"
      },
      "source": [
        "#Word2Vec"
      ]
    },
    {
      "cell_type": "code",
      "metadata": {
        "id": "tlhc0zYfC_uy",
        "colab": {
          "base_uri": "https://localhost:8080/"
        },
        "outputId": "bc55a093-42e2-47a9-caf1-d9cf32a0988f"
      },
      "source": [
        "import nltk\n",
        "nltk.download('punkt')"
      ],
      "execution_count": null,
      "outputs": [
        {
          "output_type": "stream",
          "text": [
            "[nltk_data] Downloading package punkt to /root/nltk_data...\n",
            "[nltk_data]   Package punkt is already up-to-date!\n"
          ],
          "name": "stdout"
        },
        {
          "output_type": "execute_result",
          "data": {
            "text/plain": [
              "True"
            ]
          },
          "metadata": {
            "tags": []
          },
          "execution_count": 3
        }
      ]
    },
    {
      "cell_type": "code",
      "metadata": {
        "id": "KBJ_pX9kDdKZ"
      },
      "source": [
        "questions_tokenize = [nltk.word_tokenize(sent.lower()) for sent in questions]\n",
        "answers_tokenize = [nltk.word_tokenize(sent.lower()) for sent in answers]"
      ],
      "execution_count": null,
      "outputs": []
    },
    {
      "cell_type": "code",
      "metadata": {
        "colab": {
          "base_uri": "https://localhost:8080/"
        },
        "id": "-_-pHeJqPhPP",
        "outputId": "11ae2e2e-a588-4545-fec9-b14fc286f7ed"
      },
      "source": [
        "print(len(questions_tokenize))\n",
        "print(len(answers_tokenize))"
      ],
      "execution_count": null,
      "outputs": [
        {
          "output_type": "stream",
          "text": [
            "610\n",
            "610\n"
          ],
          "name": "stdout"
        }
      ]
    },
    {
      "cell_type": "code",
      "metadata": {
        "id": "Cl1VF0GNFIqt"
      },
      "source": [
        "# train_text_tokenized = [nltk.word_tokenize(sent) for sent in X_train+y_train]\n",
        "# test_text_tokenized = [nltk.word_tokenize(sent) for sent in X_test+y_test]"
      ],
      "execution_count": null,
      "outputs": []
    },
    {
      "cell_type": "code",
      "metadata": {
        "id": "Q_gCwzN1Dylj"
      },
      "source": [
        "from gensim.models import Word2Vec\n",
        "modelw2v = Word2Vec(sentences=questions_tokenize+answers_tokenize, size=100, window=5, sg=1, min_count=1)"
      ],
      "execution_count": null,
      "outputs": []
    },
    {
      "cell_type": "code",
      "metadata": {
        "colab": {
          "base_uri": "https://localhost:8080/"
        },
        "id": "6QKdY1hqGJmt",
        "outputId": "eddcd6a5-43ad-4f87-84b8-49fb2499d5b1"
      },
      "source": [
        "print(\"Vocab size: \" + str(len(modelw2v.wv.vocab)))"
      ],
      "execution_count": null,
      "outputs": [
        {
          "output_type": "stream",
          "text": [
            "Vocab size: 1117\n"
          ],
          "name": "stdout"
        }
      ]
    },
    {
      "cell_type": "code",
      "metadata": {
        "colab": {
          "base_uri": "https://localhost:8080/"
        },
        "id": "U5xyXlwMGWmF",
        "outputId": "26796840-b366-448a-bc64-b58341cf827a"
      },
      "source": [
        "modelw2v.wv.most_similar('bạn')"
      ],
      "execution_count": null,
      "outputs": [
        {
          "output_type": "execute_result",
          "data": {
            "text/plain": [
              "[('bè', 0.9991463422775269),\n",
              " ('của', 0.9991190433502197),\n",
              " ('mình', 0.9991083741188049),\n",
              " ('không', 0.9990981221199036),\n",
              " ('có', 0.999093234539032),\n",
              " ('?', 0.9990821480751038),\n",
              " ('thân', 0.9990507364273071),\n",
              " ('nhiều', 0.9990197420120239),\n",
              " ('một', 0.9990063905715942),\n",
              " ('xinh', 0.9989845752716064)]"
            ]
          },
          "metadata": {
            "tags": []
          },
          "execution_count": 9
        }
      ]
    },
    {
      "cell_type": "code",
      "metadata": {
        "colab": {
          "base_uri": "https://localhost:8080/"
        },
        "id": "ilEMoLqmJoy_",
        "outputId": "dfe8bd0f-9346-45d7-b00c-8b3039b2601f"
      },
      "source": [
        "import numpy as np\n",
        "temp_X = {}\n",
        "error_idx = set()\n",
        "for i,sent in enumerate(questions_tokenize):\n",
        "  sent_tokenize = []\n",
        "  for word in sent:\n",
        "    try:\n",
        "      sent_tokenize.append(modelw2v.wv[word])\n",
        "    except Exception:\n",
        "      continue\n",
        "  try:\n",
        "    temp_X[i] = sum(sent_tokenize)/len(sent_tokenize)\n",
        "  except Exception:\n",
        "    error_idx.add(i)\n",
        "    continue\n",
        "\n",
        "temp_Y = {}\n",
        "\n",
        "for i,sent in enumerate(answers_tokenize):\n",
        "  sent_tokenize = []\n",
        "  for word in sent:\n",
        "    try:\n",
        "      sent_tokenize.append(modelw2v.wv[word])\n",
        "    except Exception:\n",
        "      continue\n",
        "  try:\n",
        "    temp_Y[i] = sum(sent_tokenize)/len(sent_tokenize)\n",
        "  except Exception:\n",
        "    error_idx.add(i)\n",
        "    continue\n",
        "\n",
        "X = []\n",
        "\n",
        "for e in temp_X:\n",
        "  if e in error_idx:\n",
        "    continue\n",
        "  X.append(temp_X[e])\n",
        "\n",
        "Y = []\n",
        "\n",
        "for e in temp_Y:\n",
        "  if e in error_idx:\n",
        "    continue\n",
        "  Y.append(temp_Y[e])\n",
        "\n",
        "\n",
        "print(np.array(X).shape)\n",
        "print(np.array(Y).shape)\n",
        "print(X[0:2])\n",
        "print(Y[0:2])"
      ],
      "execution_count": null,
      "outputs": [
        {
          "output_type": "stream",
          "text": [
            "(599, 100)\n",
            "(599, 100)\n",
            "[array([-0.14450935, -0.20649293, -0.09451679,  0.0890522 ,  0.02899261,\n",
            "        0.05026393,  0.05034666, -0.06282055, -0.24767008, -0.17239507,\n",
            "       -0.10587132,  0.01976674, -0.04990622,  0.03998885, -0.02010054,\n",
            "       -0.06187199, -0.07163624,  0.07782615,  0.12685637,  0.07072504,\n",
            "       -0.13652346, -0.09435675,  0.04682611,  0.05647584,  0.00275152,\n",
            "       -0.09343237,  0.02385063, -0.06991659,  0.12345809, -0.04194152,\n",
            "       -0.14403842, -0.1453831 , -0.1135772 , -0.00553429,  0.00731499,\n",
            "       -0.02987967,  0.00663317, -0.09426998,  0.04331294, -0.18051247,\n",
            "        0.09915093, -0.05769233, -0.02216022, -0.00825734, -0.06592613,\n",
            "       -0.0688859 ,  0.0044343 , -0.05598598,  0.13394482,  0.07580458,\n",
            "       -0.0286034 , -0.1659893 , -0.14259553, -0.01678232,  0.14705017,\n",
            "        0.0989581 ,  0.03352637,  0.10133636, -0.14617236, -0.03517994,\n",
            "       -0.06195349, -0.09838831,  0.11858205, -0.16638839,  0.02413272,\n",
            "        0.01955777, -0.02946651, -0.04793885,  0.051681  , -0.06765336,\n",
            "       -0.04706666,  0.16928475, -0.08636709, -0.02991972, -0.04672427,\n",
            "       -0.05831507,  0.07057796,  0.11807023,  0.04251903, -0.00955604,\n",
            "        0.09600592, -0.01747504,  0.07934836,  0.0237168 ,  0.04811829,\n",
            "        0.0172891 , -0.03987372,  0.06842563, -0.08328392,  0.04501435,\n",
            "        0.02392566, -0.0282586 ,  0.00706761,  0.03970153,  0.01733815,\n",
            "        0.00489437, -0.14532582, -0.01329215, -0.08523926,  0.0562243 ],\n",
            "      dtype=float32), array([-0.08705392, -0.1225206 , -0.05771123,  0.05297515,  0.01647169,\n",
            "        0.02639664,  0.02753785, -0.03689535, -0.14807333, -0.10456563,\n",
            "       -0.05973893,  0.01031509, -0.02799295,  0.02469769, -0.01259031,\n",
            "       -0.03760063, -0.04528335,  0.04645403,  0.07786729,  0.04309549,\n",
            "       -0.07952093, -0.05416886,  0.02476008,  0.03243488,  0.00095384,\n",
            "       -0.05614502,  0.01383549, -0.04217505,  0.075189  , -0.02245025,\n",
            "       -0.08865589, -0.08729852, -0.06649064, -0.00139928,  0.00758788,\n",
            "       -0.01684485,  0.00036209, -0.05478702,  0.02657555, -0.10693369,\n",
            "        0.05730561, -0.03305352, -0.01078134, -0.0067171 , -0.04088999,\n",
            "       -0.04148578,  0.00143576, -0.03345417,  0.08089143,  0.04540074,\n",
            "       -0.01716492, -0.09757753, -0.08500648, -0.00919612,  0.08551721,\n",
            "        0.0577842 ,  0.01941543,  0.05951558, -0.08662394, -0.02123122,\n",
            "       -0.03620728, -0.05568004,  0.07092399, -0.0985556 ,  0.01556324,\n",
            "        0.00958566, -0.02066505, -0.02942129,  0.03000813, -0.04164102,\n",
            "       -0.02924411,  0.10301334, -0.04961008, -0.01854803, -0.02428019,\n",
            "       -0.03422706,  0.04056165,  0.06800393,  0.0273587 , -0.00347588,\n",
            "        0.05484563, -0.01186267,  0.04893525,  0.01457704,  0.0306449 ,\n",
            "        0.01069711, -0.02350851,  0.0421666 , -0.04836955,  0.0257408 ,\n",
            "        0.01237565, -0.01788186,  0.00618778,  0.025675  ,  0.0121873 ,\n",
            "        0.00334882, -0.08532871, -0.00941274, -0.05296678,  0.03159645],\n",
            "      dtype=float32)]\n",
            "[array([-0.13666014, -0.19384886, -0.08847708,  0.08516986,  0.0304841 ,\n",
            "        0.04884747,  0.04755005, -0.05823277, -0.23386876, -0.16195154,\n",
            "       -0.09679464,  0.01734589, -0.044808  ,  0.03601217, -0.01845163,\n",
            "       -0.05226036, -0.06991765,  0.07013793,  0.11800152,  0.06677467,\n",
            "       -0.12283176, -0.09087371,  0.04320233,  0.04983595, -0.00122591,\n",
            "       -0.08716019,  0.02169577, -0.06550766,  0.11703045, -0.04102365,\n",
            "       -0.1329164 , -0.13467811, -0.10481477, -0.00485233,  0.00365376,\n",
            "       -0.02782114,  0.00345541, -0.08568393,  0.04470124, -0.1714608 ,\n",
            "        0.08855114, -0.05123224, -0.02257546, -0.01064543, -0.06159635,\n",
            "       -0.06486356,  0.00440557, -0.05190233,  0.12859502,  0.07188412,\n",
            "       -0.02509271, -0.14513439, -0.13509835, -0.01476442,  0.14102364,\n",
            "        0.09231946,  0.03277057,  0.0933577 , -0.1376632 , -0.03415364,\n",
            "       -0.05961144, -0.09696045,  0.10963053, -0.15989397,  0.0238229 ,\n",
            "        0.01505353, -0.02828065, -0.04386508,  0.05039339, -0.06091456,\n",
            "       -0.04227044,  0.15813105, -0.07918072, -0.02922547, -0.04022516,\n",
            "       -0.05570146,  0.0679611 ,  0.11306525,  0.04151562, -0.00764413,\n",
            "        0.0903183 , -0.01994546,  0.07427613,  0.02383735,  0.04484286,\n",
            "        0.01359043, -0.04000252,  0.06285506, -0.08224445,  0.03956734,\n",
            "        0.02273245, -0.03089342,  0.00396343,  0.03976946,  0.01511221,\n",
            "        0.00934665, -0.13884725, -0.00977096, -0.07825627,  0.04984577],\n",
            "      dtype=float32), array([-0.11983973, -0.17211606, -0.07625617,  0.07691391,  0.0222358 ,\n",
            "        0.04393848,  0.04126055, -0.05168433, -0.20642762, -0.14287247,\n",
            "       -0.08474829,  0.01570322, -0.04212778,  0.0333494 , -0.01883381,\n",
            "       -0.05268892, -0.06017619,  0.06554982,  0.10814951,  0.05677728,\n",
            "       -0.11134418, -0.07656209,  0.04064318,  0.0462757 ,  0.00274346,\n",
            "       -0.07537337,  0.01329353, -0.05609741,  0.10296111, -0.03539227,\n",
            "       -0.12158158, -0.1202338 , -0.09383468, -0.00636138,  0.00481024,\n",
            "       -0.02549782,  0.0034938 , -0.07919955,  0.03842043, -0.15323952,\n",
            "        0.07861606, -0.04625692, -0.0183535 , -0.01091872, -0.05235142,\n",
            "       -0.05685791,  0.00567238, -0.04601507,  0.11476715,  0.06467866,\n",
            "       -0.0229912 , -0.13482018, -0.11814193, -0.0131429 ,  0.12544759,\n",
            "        0.08549491,  0.02962592,  0.08515933, -0.12437107, -0.03120042,\n",
            "       -0.05275204, -0.08480431,  0.10030802, -0.14176795,  0.0223208 ,\n",
            "        0.01520615, -0.02701081, -0.04235803,  0.04089623, -0.05687457,\n",
            "       -0.03735812,  0.14382274, -0.07070224, -0.02500384, -0.03925469,\n",
            "       -0.05183543,  0.05876536,  0.10173508,  0.03634986, -0.00873096,\n",
            "        0.08107626, -0.01651043,  0.06380977,  0.0202025 ,  0.0391413 ,\n",
            "        0.01588487, -0.03421811,  0.05450653, -0.07418457,  0.0362866 ,\n",
            "        0.01714927, -0.02589454,  0.00504034,  0.03697177,  0.01663137,\n",
            "        0.00767706, -0.122366  , -0.01325529, -0.07191591,  0.0457998 ],\n",
            "      dtype=float32)]\n"
          ],
          "name": "stdout"
        }
      ]
    },
    {
      "cell_type": "code",
      "metadata": {
        "id": "KlC7GzpHSAYh"
      },
      "source": [
        "from sklearn.model_selection import train_test_split\n",
        "\n",
        "X_train, X_test, y_train, y_test = train_test_split(X, Y, test_size=0.2, random_state=42)"
      ],
      "execution_count": null,
      "outputs": []
    },
    {
      "cell_type": "code",
      "metadata": {
        "id": "GnCRLkuDSi6s"
      },
      "source": [
        "# from keras.utils import to_categorical\n",
        "\n",
        "# y_train = to_categorical(train_labels)\n",
        "# y_test = to_categorical(test_labels)"
      ],
      "execution_count": null,
      "outputs": []
    },
    {
      "cell_type": "code",
      "metadata": {
        "id": "skn0e33TSsm1"
      },
      "source": [
        "from keras.models import Sequential\n",
        "from keras import layers\n",
        "\n",
        "# # LSTM\n",
        "# lstm = Sequential()\n",
        "\n",
        "# w2v_weights = modelw2v.wv.vectors\n",
        "\n",
        "# print(w2v_weights.shape[0])\n",
        "# print(w2v_weights.shape[1])\n",
        "\n",
        "# lstm.add(layers.Embedding(input_dim=w2v_weights.shape[0], output_dim=w2v_weights.shape[1]))\n",
        "# lstm.add(layers.Bidirectional(layers.LSTM(units=300)))\n",
        "# lstm.add(layers.Dense(600, activation='relu'))\n",
        "# lstm.add(layers.Dense(300, activation='relu'))\n",
        "# lstm.add(layers.Dense(900, activation='relu'))\n",
        "# lstm.add(layers.Dense(w2v_weights.shape[0], activation='softmax'))\n",
        "# lstm.compile(optimizer='adam',\n",
        "#               loss='categorical_crossentropy',\n",
        "#               metrics=['accuracy'])\n",
        "\n",
        "# lstm.summary()"
      ],
      "execution_count": null,
      "outputs": []
    },
    {
      "cell_type": "code",
      "metadata": {
        "colab": {
          "base_uri": "https://localhost:8080/"
        },
        "id": "IcY2wrz1KNis",
        "outputId": "cd5bc2b8-8e70-42fe-f61a-c461d98a1e16"
      },
      "source": [
        "model = Sequential()\n",
        "model.add(layers.LSTM(300, input_shape=(1117,100)))\n",
        "model.add(layers.RepeatVector(100))\n",
        "model.add(layers.LSTM(300, return_sequences=True))\n",
        "model.add(layers.TimeDistributed(layers.Dense(64)))\n",
        "model.compile(optimizer='adam',\n",
        "              loss='categorical_crossentropy',\n",
        "              metrics=['accuracy'])\n",
        "model.summary()"
      ],
      "execution_count": null,
      "outputs": [
        {
          "output_type": "stream",
          "text": [
            "Model: \"sequential_2\"\n",
            "_________________________________________________________________\n",
            "Layer (type)                 Output Shape              Param #   \n",
            "=================================================================\n",
            "lstm_4 (LSTM)                (None, 300)               481200    \n",
            "_________________________________________________________________\n",
            "repeat_vector_2 (RepeatVecto (None, 100, 300)          0         \n",
            "_________________________________________________________________\n",
            "lstm_5 (LSTM)                (None, 100, 300)          721200    \n",
            "_________________________________________________________________\n",
            "time_distributed_1 (TimeDist (None, 100, 64)           19264     \n",
            "=================================================================\n",
            "Total params: 1,221,664\n",
            "Trainable params: 1,221,664\n",
            "Non-trainable params: 0\n",
            "_________________________________________________________________\n"
          ],
          "name": "stdout"
        }
      ]
    },
    {
      "cell_type": "code",
      "metadata": {
        "colab": {
          "base_uri": "https://localhost:8080/",
          "height": 841
        },
        "id": "woRYIEwvS0eR",
        "outputId": "af39bd51-383d-4fa5-d68a-abc2ff873d01"
      },
      "source": [
        "model.fit(X_train, y_train, epochs=10, batch_size=32)"
      ],
      "execution_count": null,
      "outputs": [
        {
          "output_type": "stream",
          "text": [
            "Epoch 1/10\n"
          ],
          "name": "stdout"
        },
        {
          "output_type": "error",
          "ename": "ValueError",
          "evalue": "ignored",
          "traceback": [
            "\u001b[0;31m---------------------------------------------------------------------------\u001b[0m",
            "\u001b[0;31mValueError\u001b[0m                                Traceback (most recent call last)",
            "\u001b[0;32m<ipython-input-18-601f7224d647>\u001b[0m in \u001b[0;36m<module>\u001b[0;34m()\u001b[0m\n\u001b[0;32m----> 1\u001b[0;31m \u001b[0mmodel\u001b[0m\u001b[0;34m.\u001b[0m\u001b[0mfit\u001b[0m\u001b[0;34m(\u001b[0m\u001b[0mX_train\u001b[0m\u001b[0;34m,\u001b[0m \u001b[0my_train\u001b[0m\u001b[0;34m,\u001b[0m \u001b[0mepochs\u001b[0m\u001b[0;34m=\u001b[0m\u001b[0;36m10\u001b[0m\u001b[0;34m,\u001b[0m \u001b[0mbatch_size\u001b[0m\u001b[0;34m=\u001b[0m\u001b[0;36m32\u001b[0m\u001b[0;34m)\u001b[0m\u001b[0;34m\u001b[0m\u001b[0;34m\u001b[0m\u001b[0m\n\u001b[0m",
            "\u001b[0;32m/usr/local/lib/python3.7/dist-packages/tensorflow/python/keras/engine/training.py\u001b[0m in \u001b[0;36mfit\u001b[0;34m(self, x, y, batch_size, epochs, verbose, callbacks, validation_split, validation_data, shuffle, class_weight, sample_weight, initial_epoch, steps_per_epoch, validation_steps, validation_batch_size, validation_freq, max_queue_size, workers, use_multiprocessing)\u001b[0m\n\u001b[1;32m   1098\u001b[0m                 _r=1):\n\u001b[1;32m   1099\u001b[0m               \u001b[0mcallbacks\u001b[0m\u001b[0;34m.\u001b[0m\u001b[0mon_train_batch_begin\u001b[0m\u001b[0;34m(\u001b[0m\u001b[0mstep\u001b[0m\u001b[0;34m)\u001b[0m\u001b[0;34m\u001b[0m\u001b[0;34m\u001b[0m\u001b[0m\n\u001b[0;32m-> 1100\u001b[0;31m               \u001b[0mtmp_logs\u001b[0m \u001b[0;34m=\u001b[0m \u001b[0mself\u001b[0m\u001b[0;34m.\u001b[0m\u001b[0mtrain_function\u001b[0m\u001b[0;34m(\u001b[0m\u001b[0miterator\u001b[0m\u001b[0;34m)\u001b[0m\u001b[0;34m\u001b[0m\u001b[0;34m\u001b[0m\u001b[0m\n\u001b[0m\u001b[1;32m   1101\u001b[0m               \u001b[0;32mif\u001b[0m \u001b[0mdata_handler\u001b[0m\u001b[0;34m.\u001b[0m\u001b[0mshould_sync\u001b[0m\u001b[0;34m:\u001b[0m\u001b[0;34m\u001b[0m\u001b[0;34m\u001b[0m\u001b[0m\n\u001b[1;32m   1102\u001b[0m                 \u001b[0mcontext\u001b[0m\u001b[0;34m.\u001b[0m\u001b[0masync_wait\u001b[0m\u001b[0;34m(\u001b[0m\u001b[0;34m)\u001b[0m\u001b[0;34m\u001b[0m\u001b[0;34m\u001b[0m\u001b[0m\n",
            "\u001b[0;32m/usr/local/lib/python3.7/dist-packages/tensorflow/python/eager/def_function.py\u001b[0m in \u001b[0;36m__call__\u001b[0;34m(self, *args, **kwds)\u001b[0m\n\u001b[1;32m    826\u001b[0m     \u001b[0mtracing_count\u001b[0m \u001b[0;34m=\u001b[0m \u001b[0mself\u001b[0m\u001b[0;34m.\u001b[0m\u001b[0mexperimental_get_tracing_count\u001b[0m\u001b[0;34m(\u001b[0m\u001b[0;34m)\u001b[0m\u001b[0;34m\u001b[0m\u001b[0;34m\u001b[0m\u001b[0m\n\u001b[1;32m    827\u001b[0m     \u001b[0;32mwith\u001b[0m \u001b[0mtrace\u001b[0m\u001b[0;34m.\u001b[0m\u001b[0mTrace\u001b[0m\u001b[0;34m(\u001b[0m\u001b[0mself\u001b[0m\u001b[0;34m.\u001b[0m\u001b[0m_name\u001b[0m\u001b[0;34m)\u001b[0m \u001b[0;32mas\u001b[0m \u001b[0mtm\u001b[0m\u001b[0;34m:\u001b[0m\u001b[0;34m\u001b[0m\u001b[0;34m\u001b[0m\u001b[0m\n\u001b[0;32m--> 828\u001b[0;31m       \u001b[0mresult\u001b[0m \u001b[0;34m=\u001b[0m \u001b[0mself\u001b[0m\u001b[0;34m.\u001b[0m\u001b[0m_call\u001b[0m\u001b[0;34m(\u001b[0m\u001b[0;34m*\u001b[0m\u001b[0margs\u001b[0m\u001b[0;34m,\u001b[0m \u001b[0;34m**\u001b[0m\u001b[0mkwds\u001b[0m\u001b[0;34m)\u001b[0m\u001b[0;34m\u001b[0m\u001b[0;34m\u001b[0m\u001b[0m\n\u001b[0m\u001b[1;32m    829\u001b[0m       \u001b[0mcompiler\u001b[0m \u001b[0;34m=\u001b[0m \u001b[0;34m\"xla\"\u001b[0m \u001b[0;32mif\u001b[0m \u001b[0mself\u001b[0m\u001b[0;34m.\u001b[0m\u001b[0m_experimental_compile\u001b[0m \u001b[0;32melse\u001b[0m \u001b[0;34m\"nonXla\"\u001b[0m\u001b[0;34m\u001b[0m\u001b[0;34m\u001b[0m\u001b[0m\n\u001b[1;32m    830\u001b[0m       \u001b[0mnew_tracing_count\u001b[0m \u001b[0;34m=\u001b[0m \u001b[0mself\u001b[0m\u001b[0;34m.\u001b[0m\u001b[0mexperimental_get_tracing_count\u001b[0m\u001b[0;34m(\u001b[0m\u001b[0;34m)\u001b[0m\u001b[0;34m\u001b[0m\u001b[0;34m\u001b[0m\u001b[0m\n",
            "\u001b[0;32m/usr/local/lib/python3.7/dist-packages/tensorflow/python/eager/def_function.py\u001b[0m in \u001b[0;36m_call\u001b[0;34m(self, *args, **kwds)\u001b[0m\n\u001b[1;32m    869\u001b[0m       \u001b[0;31m# This is the first call of __call__, so we have to initialize.\u001b[0m\u001b[0;34m\u001b[0m\u001b[0;34m\u001b[0m\u001b[0;34m\u001b[0m\u001b[0m\n\u001b[1;32m    870\u001b[0m       \u001b[0minitializers\u001b[0m \u001b[0;34m=\u001b[0m \u001b[0;34m[\u001b[0m\u001b[0;34m]\u001b[0m\u001b[0;34m\u001b[0m\u001b[0;34m\u001b[0m\u001b[0m\n\u001b[0;32m--> 871\u001b[0;31m       \u001b[0mself\u001b[0m\u001b[0;34m.\u001b[0m\u001b[0m_initialize\u001b[0m\u001b[0;34m(\u001b[0m\u001b[0margs\u001b[0m\u001b[0;34m,\u001b[0m \u001b[0mkwds\u001b[0m\u001b[0;34m,\u001b[0m \u001b[0madd_initializers_to\u001b[0m\u001b[0;34m=\u001b[0m\u001b[0minitializers\u001b[0m\u001b[0;34m)\u001b[0m\u001b[0;34m\u001b[0m\u001b[0;34m\u001b[0m\u001b[0m\n\u001b[0m\u001b[1;32m    872\u001b[0m     \u001b[0;32mfinally\u001b[0m\u001b[0;34m:\u001b[0m\u001b[0;34m\u001b[0m\u001b[0;34m\u001b[0m\u001b[0m\n\u001b[1;32m    873\u001b[0m       \u001b[0;31m# At this point we know that the initialization is complete (or less\u001b[0m\u001b[0;34m\u001b[0m\u001b[0;34m\u001b[0m\u001b[0;34m\u001b[0m\u001b[0m\n",
            "\u001b[0;32m/usr/local/lib/python3.7/dist-packages/tensorflow/python/eager/def_function.py\u001b[0m in \u001b[0;36m_initialize\u001b[0;34m(self, args, kwds, add_initializers_to)\u001b[0m\n\u001b[1;32m    724\u001b[0m     self._concrete_stateful_fn = (\n\u001b[1;32m    725\u001b[0m         self._stateful_fn._get_concrete_function_internal_garbage_collected(  # pylint: disable=protected-access\n\u001b[0;32m--> 726\u001b[0;31m             *args, **kwds))\n\u001b[0m\u001b[1;32m    727\u001b[0m \u001b[0;34m\u001b[0m\u001b[0m\n\u001b[1;32m    728\u001b[0m     \u001b[0;32mdef\u001b[0m \u001b[0minvalid_creator_scope\u001b[0m\u001b[0;34m(\u001b[0m\u001b[0;34m*\u001b[0m\u001b[0munused_args\u001b[0m\u001b[0;34m,\u001b[0m \u001b[0;34m**\u001b[0m\u001b[0munused_kwds\u001b[0m\u001b[0;34m)\u001b[0m\u001b[0;34m:\u001b[0m\u001b[0;34m\u001b[0m\u001b[0;34m\u001b[0m\u001b[0m\n",
            "\u001b[0;32m/usr/local/lib/python3.7/dist-packages/tensorflow/python/eager/function.py\u001b[0m in \u001b[0;36m_get_concrete_function_internal_garbage_collected\u001b[0;34m(self, *args, **kwargs)\u001b[0m\n\u001b[1;32m   2967\u001b[0m       \u001b[0margs\u001b[0m\u001b[0;34m,\u001b[0m \u001b[0mkwargs\u001b[0m \u001b[0;34m=\u001b[0m \u001b[0;32mNone\u001b[0m\u001b[0;34m,\u001b[0m \u001b[0;32mNone\u001b[0m\u001b[0;34m\u001b[0m\u001b[0;34m\u001b[0m\u001b[0m\n\u001b[1;32m   2968\u001b[0m     \u001b[0;32mwith\u001b[0m \u001b[0mself\u001b[0m\u001b[0;34m.\u001b[0m\u001b[0m_lock\u001b[0m\u001b[0;34m:\u001b[0m\u001b[0;34m\u001b[0m\u001b[0;34m\u001b[0m\u001b[0m\n\u001b[0;32m-> 2969\u001b[0;31m       \u001b[0mgraph_function\u001b[0m\u001b[0;34m,\u001b[0m \u001b[0m_\u001b[0m \u001b[0;34m=\u001b[0m \u001b[0mself\u001b[0m\u001b[0;34m.\u001b[0m\u001b[0m_maybe_define_function\u001b[0m\u001b[0;34m(\u001b[0m\u001b[0margs\u001b[0m\u001b[0;34m,\u001b[0m \u001b[0mkwargs\u001b[0m\u001b[0;34m)\u001b[0m\u001b[0;34m\u001b[0m\u001b[0;34m\u001b[0m\u001b[0m\n\u001b[0m\u001b[1;32m   2970\u001b[0m     \u001b[0;32mreturn\u001b[0m \u001b[0mgraph_function\u001b[0m\u001b[0;34m\u001b[0m\u001b[0;34m\u001b[0m\u001b[0m\n\u001b[1;32m   2971\u001b[0m \u001b[0;34m\u001b[0m\u001b[0m\n",
            "\u001b[0;32m/usr/local/lib/python3.7/dist-packages/tensorflow/python/eager/function.py\u001b[0m in \u001b[0;36m_maybe_define_function\u001b[0;34m(self, args, kwargs)\u001b[0m\n\u001b[1;32m   3359\u001b[0m \u001b[0;34m\u001b[0m\u001b[0m\n\u001b[1;32m   3360\u001b[0m           \u001b[0mself\u001b[0m\u001b[0;34m.\u001b[0m\u001b[0m_function_cache\u001b[0m\u001b[0;34m.\u001b[0m\u001b[0mmissed\u001b[0m\u001b[0;34m.\u001b[0m\u001b[0madd\u001b[0m\u001b[0;34m(\u001b[0m\u001b[0mcall_context_key\u001b[0m\u001b[0;34m)\u001b[0m\u001b[0;34m\u001b[0m\u001b[0;34m\u001b[0m\u001b[0m\n\u001b[0;32m-> 3361\u001b[0;31m           \u001b[0mgraph_function\u001b[0m \u001b[0;34m=\u001b[0m \u001b[0mself\u001b[0m\u001b[0;34m.\u001b[0m\u001b[0m_create_graph_function\u001b[0m\u001b[0;34m(\u001b[0m\u001b[0margs\u001b[0m\u001b[0;34m,\u001b[0m \u001b[0mkwargs\u001b[0m\u001b[0;34m)\u001b[0m\u001b[0;34m\u001b[0m\u001b[0;34m\u001b[0m\u001b[0m\n\u001b[0m\u001b[1;32m   3362\u001b[0m           \u001b[0mself\u001b[0m\u001b[0;34m.\u001b[0m\u001b[0m_function_cache\u001b[0m\u001b[0;34m.\u001b[0m\u001b[0mprimary\u001b[0m\u001b[0;34m[\u001b[0m\u001b[0mcache_key\u001b[0m\u001b[0;34m]\u001b[0m \u001b[0;34m=\u001b[0m \u001b[0mgraph_function\u001b[0m\u001b[0;34m\u001b[0m\u001b[0;34m\u001b[0m\u001b[0m\n\u001b[1;32m   3363\u001b[0m \u001b[0;34m\u001b[0m\u001b[0m\n",
            "\u001b[0;32m/usr/local/lib/python3.7/dist-packages/tensorflow/python/eager/function.py\u001b[0m in \u001b[0;36m_create_graph_function\u001b[0;34m(self, args, kwargs, override_flat_arg_shapes)\u001b[0m\n\u001b[1;32m   3204\u001b[0m             \u001b[0marg_names\u001b[0m\u001b[0;34m=\u001b[0m\u001b[0marg_names\u001b[0m\u001b[0;34m,\u001b[0m\u001b[0;34m\u001b[0m\u001b[0;34m\u001b[0m\u001b[0m\n\u001b[1;32m   3205\u001b[0m             \u001b[0moverride_flat_arg_shapes\u001b[0m\u001b[0;34m=\u001b[0m\u001b[0moverride_flat_arg_shapes\u001b[0m\u001b[0;34m,\u001b[0m\u001b[0;34m\u001b[0m\u001b[0;34m\u001b[0m\u001b[0m\n\u001b[0;32m-> 3206\u001b[0;31m             capture_by_value=self._capture_by_value),\n\u001b[0m\u001b[1;32m   3207\u001b[0m         \u001b[0mself\u001b[0m\u001b[0;34m.\u001b[0m\u001b[0m_function_attributes\u001b[0m\u001b[0;34m,\u001b[0m\u001b[0;34m\u001b[0m\u001b[0;34m\u001b[0m\u001b[0m\n\u001b[1;32m   3208\u001b[0m         \u001b[0mfunction_spec\u001b[0m\u001b[0;34m=\u001b[0m\u001b[0mself\u001b[0m\u001b[0;34m.\u001b[0m\u001b[0mfunction_spec\u001b[0m\u001b[0;34m,\u001b[0m\u001b[0;34m\u001b[0m\u001b[0;34m\u001b[0m\u001b[0m\n",
            "\u001b[0;32m/usr/local/lib/python3.7/dist-packages/tensorflow/python/framework/func_graph.py\u001b[0m in \u001b[0;36mfunc_graph_from_py_func\u001b[0;34m(name, python_func, args, kwargs, signature, func_graph, autograph, autograph_options, add_control_dependencies, arg_names, op_return_value, collections, capture_by_value, override_flat_arg_shapes)\u001b[0m\n\u001b[1;32m    988\u001b[0m         \u001b[0m_\u001b[0m\u001b[0;34m,\u001b[0m \u001b[0moriginal_func\u001b[0m \u001b[0;34m=\u001b[0m \u001b[0mtf_decorator\u001b[0m\u001b[0;34m.\u001b[0m\u001b[0munwrap\u001b[0m\u001b[0;34m(\u001b[0m\u001b[0mpython_func\u001b[0m\u001b[0;34m)\u001b[0m\u001b[0;34m\u001b[0m\u001b[0;34m\u001b[0m\u001b[0m\n\u001b[1;32m    989\u001b[0m \u001b[0;34m\u001b[0m\u001b[0m\n\u001b[0;32m--> 990\u001b[0;31m       \u001b[0mfunc_outputs\u001b[0m \u001b[0;34m=\u001b[0m \u001b[0mpython_func\u001b[0m\u001b[0;34m(\u001b[0m\u001b[0;34m*\u001b[0m\u001b[0mfunc_args\u001b[0m\u001b[0;34m,\u001b[0m \u001b[0;34m**\u001b[0m\u001b[0mfunc_kwargs\u001b[0m\u001b[0;34m)\u001b[0m\u001b[0;34m\u001b[0m\u001b[0;34m\u001b[0m\u001b[0m\n\u001b[0m\u001b[1;32m    991\u001b[0m \u001b[0;34m\u001b[0m\u001b[0m\n\u001b[1;32m    992\u001b[0m       \u001b[0;31m# invariant: `func_outputs` contains only Tensors, CompositeTensors,\u001b[0m\u001b[0;34m\u001b[0m\u001b[0;34m\u001b[0m\u001b[0;34m\u001b[0m\u001b[0m\n",
            "\u001b[0;32m/usr/local/lib/python3.7/dist-packages/tensorflow/python/eager/def_function.py\u001b[0m in \u001b[0;36mwrapped_fn\u001b[0;34m(*args, **kwds)\u001b[0m\n\u001b[1;32m    632\u001b[0m             \u001b[0mxla_context\u001b[0m\u001b[0;34m.\u001b[0m\u001b[0mExit\u001b[0m\u001b[0;34m(\u001b[0m\u001b[0;34m)\u001b[0m\u001b[0;34m\u001b[0m\u001b[0;34m\u001b[0m\u001b[0m\n\u001b[1;32m    633\u001b[0m         \u001b[0;32melse\u001b[0m\u001b[0;34m:\u001b[0m\u001b[0;34m\u001b[0m\u001b[0;34m\u001b[0m\u001b[0m\n\u001b[0;32m--> 634\u001b[0;31m           \u001b[0mout\u001b[0m \u001b[0;34m=\u001b[0m \u001b[0mweak_wrapped_fn\u001b[0m\u001b[0;34m(\u001b[0m\u001b[0;34m)\u001b[0m\u001b[0;34m.\u001b[0m\u001b[0m__wrapped__\u001b[0m\u001b[0;34m(\u001b[0m\u001b[0;34m*\u001b[0m\u001b[0margs\u001b[0m\u001b[0;34m,\u001b[0m \u001b[0;34m**\u001b[0m\u001b[0mkwds\u001b[0m\u001b[0;34m)\u001b[0m\u001b[0;34m\u001b[0m\u001b[0;34m\u001b[0m\u001b[0m\n\u001b[0m\u001b[1;32m    635\u001b[0m         \u001b[0;32mreturn\u001b[0m \u001b[0mout\u001b[0m\u001b[0;34m\u001b[0m\u001b[0;34m\u001b[0m\u001b[0m\n\u001b[1;32m    636\u001b[0m \u001b[0;34m\u001b[0m\u001b[0m\n",
            "\u001b[0;32m/usr/local/lib/python3.7/dist-packages/tensorflow/python/framework/func_graph.py\u001b[0m in \u001b[0;36mwrapper\u001b[0;34m(*args, **kwargs)\u001b[0m\n\u001b[1;32m    975\u001b[0m           \u001b[0;32mexcept\u001b[0m \u001b[0mException\u001b[0m \u001b[0;32mas\u001b[0m \u001b[0me\u001b[0m\u001b[0;34m:\u001b[0m  \u001b[0;31m# pylint:disable=broad-except\u001b[0m\u001b[0;34m\u001b[0m\u001b[0;34m\u001b[0m\u001b[0m\n\u001b[1;32m    976\u001b[0m             \u001b[0;32mif\u001b[0m \u001b[0mhasattr\u001b[0m\u001b[0;34m(\u001b[0m\u001b[0me\u001b[0m\u001b[0;34m,\u001b[0m \u001b[0;34m\"ag_error_metadata\"\u001b[0m\u001b[0;34m)\u001b[0m\u001b[0;34m:\u001b[0m\u001b[0;34m\u001b[0m\u001b[0;34m\u001b[0m\u001b[0m\n\u001b[0;32m--> 977\u001b[0;31m               \u001b[0;32mraise\u001b[0m \u001b[0me\u001b[0m\u001b[0;34m.\u001b[0m\u001b[0mag_error_metadata\u001b[0m\u001b[0;34m.\u001b[0m\u001b[0mto_exception\u001b[0m\u001b[0;34m(\u001b[0m\u001b[0me\u001b[0m\u001b[0;34m)\u001b[0m\u001b[0;34m\u001b[0m\u001b[0;34m\u001b[0m\u001b[0m\n\u001b[0m\u001b[1;32m    978\u001b[0m             \u001b[0;32melse\u001b[0m\u001b[0;34m:\u001b[0m\u001b[0;34m\u001b[0m\u001b[0;34m\u001b[0m\u001b[0m\n\u001b[1;32m    979\u001b[0m               \u001b[0;32mraise\u001b[0m\u001b[0;34m\u001b[0m\u001b[0;34m\u001b[0m\u001b[0m\n",
            "\u001b[0;31mValueError\u001b[0m: in user code:\n\n    /usr/local/lib/python3.7/dist-packages/tensorflow/python/keras/engine/training.py:805 train_function  *\n        return step_function(self, iterator)\n    /usr/local/lib/python3.7/dist-packages/tensorflow/python/keras/engine/training.py:795 step_function  **\n        outputs = model.distribute_strategy.run(run_step, args=(data,))\n    /usr/local/lib/python3.7/dist-packages/tensorflow/python/distribute/distribute_lib.py:1259 run\n        return self._extended.call_for_each_replica(fn, args=args, kwargs=kwargs)\n    /usr/local/lib/python3.7/dist-packages/tensorflow/python/distribute/distribute_lib.py:2730 call_for_each_replica\n        return self._call_for_each_replica(fn, args, kwargs)\n    /usr/local/lib/python3.7/dist-packages/tensorflow/python/distribute/distribute_lib.py:3417 _call_for_each_replica\n        return fn(*args, **kwargs)\n    /usr/local/lib/python3.7/dist-packages/tensorflow/python/keras/engine/training.py:788 run_step  **\n        outputs = model.train_step(data)\n    /usr/local/lib/python3.7/dist-packages/tensorflow/python/keras/engine/training.py:754 train_step\n        y_pred = self(x, training=True)\n    /usr/local/lib/python3.7/dist-packages/tensorflow/python/keras/engine/base_layer.py:998 __call__\n        input_spec.assert_input_compatibility(self.input_spec, inputs, self.name)\n    /usr/local/lib/python3.7/dist-packages/tensorflow/python/keras/engine/input_spec.py:207 assert_input_compatibility\n        ' input tensors. Inputs received: ' + str(inputs))\n\n    ValueError: Layer sequential_2 expects 1 input(s), but it received 479 input tensors. Inputs received: [<tf.Tensor 'ExpandDims:0' shape=(None, 1) dtype=float32>, <tf.Tensor 'ExpandDims_1:0' shape=(None, 1) dtype=float32>, <tf.Tensor 'ExpandDims_2:0' shape=(None, 1) dtype=float32>, <tf.Tensor 'ExpandDims_3:0' shape=(None, 1) dtype=float32>, <tf.Tensor 'ExpandDims_4:0' shape=(None, 1) dtype=float32>, <tf.Tensor 'ExpandDims_5:0' shape=(None, 1) dtype=float32>, <tf.Tensor 'ExpandDims_6:0' shape=(None, 1) dtype=float32>, <tf.Tensor 'ExpandDims_7:0' shape=(None, 1) dtype=float32>, <tf.Tensor 'ExpandDims_8:0' shape=(None, 1) dtype=float32>, <tf.Tensor 'ExpandDims_9:0' shape=(None, 1) dtype=float32>, <tf.Tensor 'ExpandDims_10:0' shape=(None, 1) dtype=float32>, <tf.Tensor 'ExpandDims_11:0' shape=(None, 1) dtype=float32>, <tf.Tensor 'ExpandDims_12:0' shape=(None, 1) dtype=float32>, <tf.Tensor 'ExpandDims_13:0' shape=(None, 1) dtype=float32>, <tf.Tensor 'ExpandDims_14:0' shape=(None, 1) dtype=float32>, <tf.Tensor 'ExpandDims_15:0' shape=(None, 1) dtype=float32>, <tf.Tensor 'ExpandDims_16:0' shape=(None, 1) dtype=float32>, <tf.Tensor 'ExpandDims_17:0' shape=(None, 1) dtype=float32>, <tf.Tensor 'ExpandDims_18:0' shape=(None, 1) dtype=float32>, <tf.Tensor 'ExpandDims_19:0' shape=(None, 1) dtype=float32>, <tf.Tensor 'ExpandDims_20:0' shape=(None, 1) dtype=float32>, <tf.Tensor 'ExpandDims_21:0' shape=(None, 1) dtype=float32>, <tf.Tensor 'ExpandDims_22:0' shape=(None, 1) dtype=float32>...\n"
          ]
        }
      ]
    }
  ]
}