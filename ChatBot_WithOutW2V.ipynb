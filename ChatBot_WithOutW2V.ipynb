{
 "cells": [
  {
   "cell_type": "code",
   "execution_count": 1,
   "metadata": {},
   "outputs": [],
   "source": [
    "from os import walk\n",
    "\n",
    "_, _, filenames = next(walk('./data'))"
   ]
  },
  {
   "cell_type": "code",
   "execution_count": 2,
   "metadata": {},
   "outputs": [
    {
     "data": {
      "text/plain": [
       "['địa chỉ.txt',\n",
       " 'gia đình.txt',\n",
       " 'bạn bè.txt',\n",
       " 'tdtu.txt',\n",
       " 'tán gẫu.txt',\n",
       " 'nghề nghiệp.txt',\n",
       " 'robot.txt',\n",
       " 'shoping.txt',\n",
       " 'giải trí.txt',\n",
       " 'nghỉ lễ.txt',\n",
       " 'trò chuyện về đi ăn.txt',\n",
       " 'đất nước.txt',\n",
       " 'sở thích.txt',\n",
       " 'các câu hỏi phức tạp.txt',\n",
       " 'học tập.txt',\n",
       " 'người yêu.txt',\n",
       " 'du lịch.txt',\n",
       " 'thông tin cá nhân.txt']"
      ]
     },
     "execution_count": 2,
     "metadata": {},
     "output_type": "execute_result"
    }
   ],
   "source": [
    "filenames"
   ]
  },
  {
   "cell_type": "code",
   "execution_count": 3,
   "metadata": {
    "id": "AGNozDPc-u71"
   },
   "outputs": [
    {
     "name": "stdout",
     "output_type": "stream",
     "text": [
      "5855\n",
      "5855\n",
      "['Bạn thuê trọ bao nhiêu tiền?', 'Nhà bạn có bao nhiêu người vậy ?']\n",
      "['Mình thuê khoảng 3 tr một tháng', 'Nhà mình có 7 người']\n"
     ]
    }
   ],
   "source": [
    "import re\n",
    "\n",
    "questions = []\n",
    "answers = []\n",
    "\n",
    "for fname in filenames:\n",
    "    f = open('./data/' + fname,'r')\n",
    "    sentences = f.readlines()\n",
    "    for sent in sentences:\n",
    "        q_a = sent.split('__eou__')\n",
    "        for i in range(len(q_a)):\n",
    "            q_a[i] = re.sub('^ | $','',q_a[i])\n",
    "        try:\n",
    "            questions.append(q_a[0])\n",
    "            answers.append(q_a[1])\n",
    "        except Exception:\n",
    "            continue\n",
    "\n",
    "print(len(questions))\n",
    "print(len(answers))\n",
    "print(questions[:2])\n",
    "print(answers[:2])"
   ]
  },
  {
   "cell_type": "code",
   "execution_count": 4,
   "metadata": {
    "colab": {
     "base_uri": "https://localhost:8080/"
    },
    "id": "tlhc0zYfC_uy",
    "outputId": "bc55a093-42e2-47a9-caf1-d9cf32a0988f"
   },
   "outputs": [],
   "source": [
    "import nltk\n",
    "\n",
    "tokenizer = nltk.RegexpTokenizer(r\"\\w+\")"
   ]
  },
  {
   "cell_type": "code",
   "execution_count": 5,
   "metadata": {
    "id": "KBJ_pX9kDdKZ"
   },
   "outputs": [],
   "source": [
    "questions_tokenized = [tokenizer.tokenize(sent.lower()) for sent in questions]\n",
    "answers_tokenized = [tokenizer.tokenize(sent.lower()) for sent in answers]"
   ]
  },
  {
   "cell_type": "code",
   "execution_count": 6,
   "metadata": {},
   "outputs": [],
   "source": [
    "from gensim.corpora import Dictionary\n",
    "from gensim.summarization.bm25 import BM25\n",
    "\n",
    "dictionary = Dictionary(questions_tokenized)\n",
    "corpus = [dictionary.doc2bow(sent) for sent in questions_tokenized]\n",
    "bm25 = BM25(corpus)"
   ]
  },
  {
   "cell_type": "code",
   "execution_count": 7,
   "metadata": {},
   "outputs": [],
   "source": [
    "def get_answer(question):\n",
    "    question = tokenizer.tokenize(question.lower())\n",
    "    query = dictionary.doc2bow(question)\n",
    "    scores = bm25.get_scores(query)\n",
    "    best_answer = sorted(\n",
    "        range(len(scores)), key=lambda i: scores[i]\n",
    "    )[-5:]\n",
    "    \n",
    "    return answers[best_answer[-1]]"
   ]
  },
  {
   "cell_type": "code",
   "execution_count": 9,
   "metadata": {},
   "outputs": [
    {
     "data": {
      "text/plain": [
       "'Cuối tuần này mình rảnh'"
      ]
     },
     "execution_count": 9,
     "metadata": {},
     "output_type": "execute_result"
    }
   ],
   "source": [
    "question = \"Cuối tuần nhậu không cu ?\"\n",
    "\n",
    "get_answer(question)"
   ]
  },
  {
   "cell_type": "code",
   "execution_count": null,
   "metadata": {},
   "outputs": [],
   "source": []
  }
 ],
 "metadata": {
  "colab": {
   "collapsed_sections": [],
   "name": "NLP-chatbot",
   "provenance": [],
   "toc_visible": true
  },
  "kernelspec": {
   "display_name": "Python 3",
   "language": "python",
   "name": "python3"
  },
  "language_info": {
   "codemirror_mode": {
    "name": "ipython",
    "version": 3
   },
   "file_extension": ".py",
   "mimetype": "text/x-python",
   "name": "python",
   "nbconvert_exporter": "python",
   "pygments_lexer": "ipython3",
   "version": "3.6.12"
  }
 },
 "nbformat": 4,
 "nbformat_minor": 1
}
